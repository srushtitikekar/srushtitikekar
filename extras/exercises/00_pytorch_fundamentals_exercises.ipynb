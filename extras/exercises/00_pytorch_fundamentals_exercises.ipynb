{
  "nbformat": 4,
  "nbformat_minor": 0,
  "metadata": {
    "colab": {
      "name": "00_pytorch_fundamentals_exercises.ipynb",
      "provenance": [],
      "gpuType": "T4"
    },
    "kernelspec": {
      "name": "python3",
      "display_name": "Python 3"
    },
    "language_info": {
      "name": "python"
    },
    "accelerator": "GPU"
  },
  "cells": [
    {
      "cell_type": "markdown",
      "source": [
        "# 00. PyTorch Fundamentals Exercises\n",
        "\n",
        "### 1. Documentation reading\n",
        "\n",
        "A big part of deep learning (and learning to code in general) is getting familiar with the documentation of a certain framework you're using. We'll be using the PyTorch documentation a lot throughout the rest of this course. So I'd recommend spending 10-minutes reading the following (it's okay if you don't get some things for now, the focus is not yet full understanding, it's awareness):\n",
        "  * The documentation on [`torch.Tensor`](https://pytorch.org/docs/stable/tensors.html#torch-tensor).\n",
        "  * The documentation on [`torch.cuda`](https://pytorch.org/docs/master/notes/cuda.html#cuda-semantics).\n",
        "\n"
      ],
      "metadata": {
        "id": "AzDBM_v4iMe7"
      }
    },
    {
      "cell_type": "code",
      "source": [
        "# No code solution (reading)"
      ],
      "metadata": {
        "id": "bGD0oD8Kizak"
      },
      "execution_count": null,
      "outputs": []
    },
    {
      "cell_type": "markdown",
      "source": [
        "### 2. Create a random tensor with shape `(7, 7)`.\n"
      ],
      "metadata": {
        "id": "__iXqqz-ioUJ"
      }
    },
    {
      "cell_type": "code",
      "source": [
        "# Import torch\n",
        "import torch\n",
        "import numpy as np\n",
        "tensor_1 = torch.rand(7,7)\n",
        "tensor_1\n",
        "# Create random tensor\n"
      ],
      "metadata": {
        "id": "6pUq9Dc8i2L7",
        "outputId": "750c4d2f-0bad-4d2d-8aaf-64a9431e7d87",
        "colab": {
          "base_uri": "https://localhost:8080/"
        }
      },
      "execution_count": 2,
      "outputs": [
        {
          "output_type": "execute_result",
          "data": {
            "text/plain": [
              "tensor([[0.0388, 0.0062, 0.0444, 0.0266, 0.3591, 0.1012, 0.0721],\n",
              "        [0.0602, 0.9563, 0.5156, 0.6104, 0.3822, 0.6953, 0.9051],\n",
              "        [0.6804, 0.6731, 0.2202, 0.8590, 0.8486, 0.6262, 0.1026],\n",
              "        [0.0221, 0.8604, 0.3362, 0.3943, 0.0858, 0.1412, 0.7474],\n",
              "        [0.2866, 0.4802, 0.3753, 0.1470, 0.1238, 0.0091, 0.9755],\n",
              "        [0.0514, 0.1680, 0.9953, 0.7528, 0.1340, 0.4949, 0.6238],\n",
              "        [0.7896, 0.3652, 0.0846, 0.9504, 0.0563, 0.4536, 0.6449]])"
            ]
          },
          "metadata": {},
          "execution_count": 2
        }
      ]
    },
    {
      "cell_type": "code",
      "source": [
        "type(tensor_1)"
      ],
      "metadata": {
        "id": "4Qmd_nuSoyTL",
        "outputId": "3a9196c0-1863-40b1-90a6-db954c54e301",
        "colab": {
          "base_uri": "https://localhost:8080/"
        }
      },
      "execution_count": 9,
      "outputs": [
        {
          "output_type": "execute_result",
          "data": {
            "text/plain": [
              "torch.Tensor"
            ]
          },
          "metadata": {},
          "execution_count": 9
        }
      ]
    },
    {
      "cell_type": "markdown",
      "source": [
        "### 3. Perform a matrix multiplication on the tensor from 2 with another random tensor with shape `(1, 7)` (hint: you may have to transpose the second tensor)."
      ],
      "metadata": {
        "id": "9-XxvRLfiqkR"
      }
    },
    {
      "cell_type": "code",
      "source": [
        "# Create another random tensor\n",
        "tensor_2 = torch.rand(size=(1,7))\n",
        "tensor_2\n",
        "# Perform matrix multiplication\n",
        "torch.matmul(tensor_1,tensor_2.T), torch.matmul(tensor_1,tensor_2.T).shape"
      ],
      "metadata": {
        "id": "NcLqR0Sbi_vT",
        "outputId": "25ea0328-e461-40fc-ebbe-9c7962f172fc",
        "colab": {
          "base_uri": "https://localhost:8080/"
        }
      },
      "execution_count": 14,
      "outputs": [
        {
          "output_type": "execute_result",
          "data": {
            "text/plain": [
              "(tensor([[0.3173],\n",
              "         [1.4513],\n",
              "         [1.7131],\n",
              "         [0.9033],\n",
              "         [1.1889],\n",
              "         [1.2122],\n",
              "         [1.6589]]),\n",
              " torch.Size([7, 1]))"
            ]
          },
          "metadata": {},
          "execution_count": 14
        }
      ]
    },
    {
      "cell_type": "markdown",
      "source": [
        "### 4. Set the random seed to `0` and do 2 & 3 over again.\n",
        "\n",
        "The output should be:\n",
        "```\n",
        "(tensor([[1.8542],\n",
        "         [1.9611],\n",
        "         [2.2884],\n",
        "         [3.0481],\n",
        "         [1.7067],\n",
        "         [2.5290],\n",
        "         [1.7989]]), torch.Size([7, 1]))\n",
        "```"
      ],
      "metadata": {
        "id": "eiutdKUFiryU"
      }
    },
    {
      "cell_type": "code",
      "source": [
        "# Set manual seed\n",
        "torch.seed=0\n",
        "tensor_1 = torch.rand(7,7)\n",
        "torch.seed = 0\n",
        "tensor_2 = torch.rand(size=(1,7))\n",
        "print(tensor_1,tensor_2)\n",
        "\n",
        "torch.matmul(tensor_1,tensor_2.T)\n",
        "\n",
        "# Create two random tensors\n",
        "\n",
        "\n",
        "# Matrix multiply tensors\n"
      ],
      "metadata": {
        "id": "D-lOWI_1jRMm",
        "outputId": "1d0c1d77-9870-422b-a628-0ad42bdc9a40",
        "colab": {
          "base_uri": "https://localhost:8080/"
        }
      },
      "execution_count": 20,
      "outputs": [
        {
          "output_type": "stream",
          "name": "stdout",
          "text": [
            "tensor([[0.4331, 0.3617, 0.5405, 0.9710, 0.1521, 0.0771, 0.5113],\n",
            "        [0.6433, 0.4427, 0.4831, 0.5335, 0.1631, 0.6401, 0.7806],\n",
            "        [0.8988, 0.4633, 0.0427, 0.8629, 0.3481, 0.5513, 0.0203],\n",
            "        [0.4895, 0.1713, 0.5180, 0.1562, 0.2717, 0.4934, 0.3226],\n",
            "        [0.7280, 0.1899, 0.8105, 0.2510, 0.7688, 0.2082, 0.9914],\n",
            "        [0.4713, 0.8064, 0.2785, 0.7971, 0.1592, 0.4963, 0.4586],\n",
            "        [0.0553, 0.2116, 0.1198, 0.4855, 0.2909, 0.7934, 0.9069]]) tensor([[0.8247, 0.7685, 0.3995, 0.6089, 0.4147, 0.5788, 0.3438]])\n"
          ]
        },
        {
          "output_type": "execute_result",
          "data": {
            "text/plain": [
              "tensor([[1.7259],\n",
              "        [2.0951],\n",
              "        [2.1102],\n",
              "        [1.3465],\n",
              "        [2.0032],\n",
              "        [2.1160],\n",
              "        [1.4434]])"
            ]
          },
          "metadata": {},
          "execution_count": 20
        }
      ]
    },
    {
      "cell_type": "markdown",
      "source": [
        "### 5. Speaking of random seeds, we saw how to set it with `torch.manual_seed()` but is there a GPU equivalent? (hint: you'll need to look into the documentation for `torch.cuda` for this one)\n",
        "  * If there is, set the GPU random seed to `1234`."
      ],
      "metadata": {
        "id": "ezY6ks9Cis37"
      }
    },
    {
      "cell_type": "code",
      "source": [
        "# Set random seed on the GPU\n",
        "torch.manual_seed(1234)"
      ],
      "metadata": {
        "id": "_LKWcfSTjp00",
        "outputId": "4be325e2-54ff-4242-c9be-76ca72e9108a",
        "colab": {
          "base_uri": "https://localhost:8080/"
        }
      },
      "execution_count": 21,
      "outputs": [
        {
          "output_type": "execute_result",
          "data": {
            "text/plain": [
              "<torch._C.Generator at 0x7df62c29f850>"
            ]
          },
          "metadata": {},
          "execution_count": 21
        }
      ]
    },
    {
      "cell_type": "markdown",
      "source": [
        "\n",
        "### 6. Create two random tensors of shape `(2, 3)` and send them both to the GPU (you'll need access to a GPU for this). Set `torch.manual_seed(1234)` when creating the tensors (this doesn't have to be the GPU random seed). The output should be something like:\n",
        "\n",
        "```\n",
        "Device: cuda\n",
        "(tensor([[0.0290, 0.4019, 0.2598],\n",
        "         [0.3666, 0.0583, 0.7006]], device='cuda:0'),\n",
        " tensor([[0.0518, 0.4681, 0.6738],\n",
        "         [0.3315, 0.7837, 0.5631]], device='cuda:0'))\n",
        "```"
      ],
      "metadata": {
        "id": "Ir9qSaj6it4n"
      }
    },
    {
      "cell_type": "code",
      "source": [
        "# Set random seed\n",
        "torch.manual_seed(1234)\n",
        "tensor_3 = torch.rand(size=(2,3))\n",
        "tensor_4 = torch.rand(size=(2,3))\n",
        "# Check for access to GPU\n",
        "\n",
        "# Create two random tensors on GPU\n",
        "\n",
        "device = \"cuda\" if torch.cuda.is_available() else \"cpu\"\n",
        "print(device)\n",
        "tensor_3_gpu = tensor_3.to(device)\n",
        "tensor_4_gpu= tensor_4.to(device)\n",
        "\n",
        "tensor_3_gpu,tensor_4_gpu"
      ],
      "metadata": {
        "id": "azXExiFZj5nm",
        "outputId": "15eb675a-d644-4dff-9044-c771805eb07d",
        "colab": {
          "base_uri": "https://localhost:8080/"
        }
      },
      "execution_count": 37,
      "outputs": [
        {
          "output_type": "stream",
          "name": "stdout",
          "text": [
            "cuda\n"
          ]
        },
        {
          "output_type": "execute_result",
          "data": {
            "text/plain": [
              "(tensor([[0.0290, 0.4019, 0.2598],\n",
              "         [0.3666, 0.0583, 0.7006]], device='cuda:0'),\n",
              " tensor([[0.0518, 0.4681, 0.6738],\n",
              "         [0.3315, 0.7837, 0.5631]], device='cuda:0'))"
            ]
          },
          "metadata": {},
          "execution_count": 37
        }
      ]
    },
    {
      "cell_type": "markdown",
      "source": [
        "\n",
        "### 7. Perform a matrix multiplication on the tensors you created in 6 (again, you may have to adjust the shapes of one of the tensors).\n",
        "\n",
        "The output should look like:\n",
        "```\n",
        "(tensor([[0.3647, 0.4709],\n",
        "         [0.5184, 0.5617]], device='cuda:0'), torch.Size([2, 2]))\n",
        "```"
      ],
      "metadata": {
        "id": "5TlAxeiSiu1y"
      }
    },
    {
      "cell_type": "code",
      "source": [
        "# Perform matmul on tensor_A and tensor_B\n",
        "\n",
        "tensor5=torch.matmul(tensor_3_gpu ,tensor_4_gpu.reshape(3,2))\n",
        "tensor5"
      ],
      "metadata": {
        "id": "fAeG7ox0lHEO",
        "outputId": "5cd627bc-db35-4773-cd45-f2099342ecd9",
        "colab": {
          "base_uri": "https://localhost:8080/"
        }
      },
      "execution_count": 39,
      "outputs": [
        {
          "output_type": "execute_result",
          "data": {
            "text/plain": [
              "tensor([[0.4759, 0.2931],\n",
              "        [0.6074, 0.5855]], device='cuda:0')"
            ]
          },
          "metadata": {},
          "execution_count": 39
        }
      ]
    },
    {
      "cell_type": "markdown",
      "source": [
        "### 8. Find the maximum and minimum values of the output of 7."
      ],
      "metadata": {
        "id": "G7qfa5CSivwg"
      }
    },
    {
      "cell_type": "code",
      "source": [
        "# Find max\n",
        "torch.max(tensor5), torch.min(tensor5)\n",
        "# Find min\n"
      ],
      "metadata": {
        "id": "Fu8_3mZpllOd",
        "outputId": "90438743-0d60-4530-9c39-e7b0c4de565f",
        "colab": {
          "base_uri": "https://localhost:8080/"
        }
      },
      "execution_count": 43,
      "outputs": [
        {
          "output_type": "execute_result",
          "data": {
            "text/plain": [
              "(tensor(0.6074, device='cuda:0'), tensor(0.2931, device='cuda:0'))"
            ]
          },
          "metadata": {},
          "execution_count": 43
        }
      ]
    },
    {
      "cell_type": "markdown",
      "source": [
        "### 9. Find the maximum and minimum index values of the output of 7."
      ],
      "metadata": {
        "id": "wrTj5FgNiw47"
      }
    },
    {
      "cell_type": "code",
      "source": [
        "# Find arg max\n",
        "torch.argmax(tensor5), torch.argmin(tensor5)\n",
        "\n",
        "# Find arg min\n"
      ],
      "metadata": {
        "id": "CCEKt4K2lsfQ",
        "outputId": "b6df6bfc-e8e5-4f80-ea1c-52cb582bc75f",
        "colab": {
          "base_uri": "https://localhost:8080/"
        }
      },
      "execution_count": 44,
      "outputs": [
        {
          "output_type": "execute_result",
          "data": {
            "text/plain": [
              "(tensor(2, device='cuda:0'), tensor(1, device='cuda:0'))"
            ]
          },
          "metadata": {},
          "execution_count": 44
        }
      ]
    },
    {
      "cell_type": "markdown",
      "source": [
        "\n",
        "### 10. Make a random tensor with shape `(1, 1, 1, 10)` and then create a new tensor with all the `1` dimensions removed to be left with a tensor of shape `(10)`. Set the seed to `7` when you create it and print out the first tensor and it's shape as well as the second tensor and it's shape.\n",
        "\n",
        "The output should look like:\n",
        "\n",
        "```\n",
        "tensor([[[[0.5349, 0.1988, 0.6592, 0.6569, 0.2328, 0.4251, 0.2071, 0.6297,\n",
        "           0.3653, 0.8513]]]]) torch.Size([1, 1, 1, 10])\n",
        "tensor([0.5349, 0.1988, 0.6592, 0.6569, 0.2328, 0.4251, 0.2071, 0.6297, 0.3653,\n",
        "        0.8513]) torch.Size([10])\n",
        "```"
      ],
      "metadata": {
        "id": "hmeybz4uixy7"
      }
    },
    {
      "cell_type": "code",
      "source": [
        "# Set seed\n",
        "\n",
        "seed = torch.manual_seed(7)\n",
        "\n",
        "# Create random tensor\n",
        "tensor_A = torch.rand(size=(1,1,1,10))\n",
        "print(tensor_A, tensor_A.shape)\n",
        "\n",
        "# Remove single dimensions\n",
        "\n",
        "tensor_A_1=torch.squeeze(tensor_A)\n",
        "print(tensor_A_1,tensor_A_1.shape)\n",
        "# Print out tensors and their shapes\n"
      ],
      "metadata": {
        "id": "TQ9zbRzVl1jV",
        "outputId": "a69c6b30-39f2-4c04-fa90-4c000b1eb928",
        "colab": {
          "base_uri": "https://localhost:8080/"
        }
      },
      "execution_count": 48,
      "outputs": [
        {
          "output_type": "stream",
          "name": "stdout",
          "text": [
            "tensor([[[[0.5349, 0.1988, 0.6592, 0.6569, 0.2328, 0.4251, 0.2071, 0.6297,\n",
            "           0.3653, 0.8513]]]]) torch.Size([1, 1, 1, 10])\n",
            "tensor([0.5349, 0.1988, 0.6592, 0.6569, 0.2328, 0.4251, 0.2071, 0.6297, 0.3653,\n",
            "        0.8513]) torch.Size([10])\n"
          ]
        }
      ]
    }
  ]
}