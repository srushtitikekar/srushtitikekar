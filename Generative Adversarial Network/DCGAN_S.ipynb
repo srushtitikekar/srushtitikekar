{
 "cells": [
  {
   "cell_type": "code",
   "execution_count": null,
   "id": "abf5b0fe-9bad-41f9-80d9-b0a11c36b85e",
   "metadata": {},
   "outputs": [],
   "source": [
    "import argparse\n",
    "import os\n",
    "import random\n",
    "import torch\n",
    "import torch.nn as nn\n",
    "import torch.nn.parallel\n",
    "import torch.backends.cudnn as cudnn\n",
    "import torch.optim as optim\n",
    "import torch.utils.data\n",
    "import torchvision.datasets as dset\n",
    "import torchvision.transforms as transforms\n",
    "import torchvision.utils as vutils\n",
    "import numpy as np\n",
    "import matplotlib.pyplot as plt\n",
    "import matplotlib.animation as animation\n",
    "import torchvision.datasets as datasets\n",
    "import torchvision.transforms as transforms\n",
    "from IPython.display import HTML"
   ]
  },
  {
   "cell_type": "code",
   "execution_count": null,
   "id": "70d63f40-f19b-43ed-b036-98e7f71917b9",
   "metadata": {},
   "outputs": [],
   "source": [
    "\n",
    "batch = 32\n",
    "img_size = 64\n",
    "num_epochs = 50\n",
    "lr = 0.0002\n",
    "\n"
   ]
  },
  {
   "cell_type": "code",
   "execution_count": null,
   "id": "f0dd0d26-f3a7-4b0b-91f8-1ffd9e8f090a",
   "metadata": {},
   "outputs": [],
   "source": [
    "transform = transforms.Compose([\n",
    "                               transforms.Resize(img_size),\n",
    "                               transforms.CenterCrop(img_size),\n",
    "                               transforms.ToTensor(),\n",
    "                               transforms.Normalize((0.5, 0.5, 0.5), (0.5, 0.5, 0.5)),\n",
    "                           ])"
   ]
  },
  {
   "cell_type": "code",
   "execution_count": null,
   "id": "8a8ab035-166e-46cc-9cef-94caa90b29de",
   "metadata": {},
   "outputs": [],
   "source": [
    "trainset = dset.CIFAR10(root='./data', train=True,\n",
    "                                        download=True,transform=transform)\n",
    "trainloader = torch.utils.data.DataLoader(trainset, batch_size=batch,\n",
    "                                          shuffle=True, num_workers=2)"
   ]
  },
  {
   "cell_type": "code",
   "execution_count": null,
   "id": "ac346860-c56f-4dad-a399-38478129698d",
   "metadata": {},
   "outputs": [],
   "source": [
    "for img in trainloader:\n",
    "    print(img[0].shape)\n",
    "    break"
   ]
  },
  {
   "cell_type": "code",
   "execution_count": null,
   "id": "b1a19ecc-f6fb-47ce-83f8-53424962e1ff",
   "metadata": {},
   "outputs": [],
   "source": [
    "\n",
    "def initialize(m):\n",
    "    classname = m.__class__.__name__\n",
    "    if classname.find('Conv') != -1:\n",
    "        nn.init.normal_(m.weight.data, 0.0, 0.02)\n",
    "    elif classname.find('BatchNorm') != -1:\n",
    "        nn.init.normal_(m.weight.data, 1.0, 0.02)\n",
    "        nn.init.constant_(m.bias.data, 0)"
   ]
  },
  {
   "cell_type": "code",
   "execution_count": null,
   "id": "2384394c-da22-4c62-86dc-086562ecd397",
   "metadata": {},
   "outputs": [],
   "source": [
    "class Discriminator(nn.Module):\n",
    "    def __init__(self):\n",
    "        super(Discriminator, self).__init__()\n",
    "        #self.ngpu = ngpu\n",
    "        self.main = nn.Sequential(\n",
    "           \n",
    "            nn.Conv2d(3, 64, 4, 2, 1, bias=False),\n",
    "            nn.LeakyReLU(0.2, inplace=True),\n",
    "   \n",
    "            nn.Conv2d(64, 64 * 2, 4, 2, 1, bias=False),\n",
    "            nn.BatchNorm2d(64 * 2),\n",
    "            nn.LeakyReLU(0.2, inplace=True),\n",
    "         \n",
    "            nn.Conv2d(64 * 2, 64 * 4, 4, 2, 1, bias=False),\n",
    "            nn.BatchNorm2d(64 * 4),\n",
    "            nn.LeakyReLU(0.2, inplace=True),\n",
    "      \n",
    "            nn.Conv2d(64 * 4, 64 * 8, 4, 2, 1, bias=False),\n",
    "            nn.BatchNorm2d(64 * 8),\n",
    "            nn.LeakyReLU(0.2, inplace=True),\n",
    "          \n",
    "            nn.Conv2d(64 * 8, 1, 4, 1, 0, bias=False),\n",
    "            nn.Sigmoid()\n",
    "        )\n",
    "\n",
    "    def forward(self, input):\n",
    "        return self.main(input)"
   ]
  },
  {
   "cell_type": "code",
   "execution_count": null,
   "id": "731d0044-8e23-4390-9db0-d8fba8ba918d",
   "metadata": {},
   "outputs": [],
   "source": [
    "device = torch.device(\"cuda:0\" if torch.cuda.is_available() else \"cpu\")"
   ]
  },
  {
   "cell_type": "code",
   "execution_count": null,
   "id": "47f7edf6-a3ed-4423-9674-da66c6df423e",
   "metadata": {},
   "outputs": [],
   "source": [
    "\n",
    "netD = Discriminator().to(device)\n",
    "\n",
    "\n",
    "if (device.type == 'cuda') :\n",
    "    netD = nn.DataParallel(netD)\n",
    "\n",
    "netD.apply(weights_init)\n",
    "\n",
    "print(netD)"
   ]
  },
  {
   "cell_type": "code",
   "execution_count": null,
   "id": "efd657a8-cb90-47fe-9171-f24508b36112",
   "metadata": {},
   "outputs": [],
   "source": [
    "\n",
    "class Generator(nn.Module):\n",
    "    def __init__(self):\n",
    "        super(Generator, self).__init__()\n",
    "  \n",
    "        self.main = nn.Sequential(\n",
    "            # input is Z, going into a convolution\n",
    "            nn.ConvTranspose2d( 100, 64 * 8, 4, 1, 0, bias=False),\n",
    "            nn.BatchNorm2d(64 * 8),\n",
    "            nn.ReLU(True),\n",
    "          \n",
    "            nn.ConvTranspose2d(64 * 8, 64 * 4, 4, 2, 1, bias=False),\n",
    "            nn.BatchNorm2d(64 * 4),\n",
    "            nn.ReLU(True),\n",
    "  \n",
    "            nn.ConvTranspose2d( 64 * 4, 64 * 2, 4, 2, 1, bias=False),\n",
    "            nn.BatchNorm2d(64 * 2),\n",
    "            nn.ReLU(True),\n",
    "           \n",
    "            nn.ConvTranspose2d( 64 * 2, 64, 4, 2, 1, bias=False),\n",
    "            nn.BatchNorm2d(64),\n",
    "            nn.ReLU(True),\n",
    "\n",
    "            nn.ConvTranspose2d( 64, 3, 4, 2, 1, bias=False),\n",
    "            nn.Tanh()\n",
    "           \n",
    "        )\n",
    "\n",
    "    def forward(self, input):\n",
    "        return self.main(input)"
   ]
  },
  {
   "cell_type": "code",
   "execution_count": null,
   "id": "6c22178d-ea21-46c3-9e7b-5d2cc7f16f62",
   "metadata": {},
   "outputs": [],
   "source": [
    "\n",
    "netG = Generator().to(device)\n",
    "\n",
    "\n",
    "if (device.type == 'cuda') :\n",
    "    netG = nn.DataParallel(netG)\n",
    "\n",
    "\n",
    "\n",
    "netG.apply(weights_init)\n",
    "\n",
    "\n",
    "print(netG)"
   ]
  },
  {
   "cell_type": "code",
   "execution_count": null,
   "id": "4557ad0d-541a-403e-b1f7-84f651b269e5",
   "metadata": {},
   "outputs": [],
   "source": [
    "real_label = 1\n",
    "fake_label = 0\n"
   ]
  },
  {
   "cell_type": "code",
   "execution_count": null,
   "id": "b5d948d2-73dc-41cb-9928-c14f6b7cf46e",
   "metadata": {},
   "outputs": [],
   "source": [
    "\n",
    "criterion = nn.BCELoss()\n",
    "\n",
    "fixed_noise = torch.randn(64, 100, 1, 1, device=device)\n",
    "\n",
    "optimizerD = optim.Adam(netD.parameters(), lr=lr, betas=(0.5, 0.999))\n",
    "optimizerG = optim.Adam(netG.parameters(), lr=lr, betas=(0.5, 0.999))"
   ]
  },
  {
   "cell_type": "code",
   "execution_count": null,
   "id": "65c40871-f3e0-4733-b488-1cf51a2ae1f1",
   "metadata": {},
   "outputs": [],
   "source": [
    "\n",
    "img_list = []\n",
    "G_losses = []\n",
    "D_losses = []\n",
    "iters = 0\n",
    "real_img=[]\n",
    "\n",
    "# For each epoch\n",
    "for epoch in range(num_epochs):\n",
    "\n",
    "    for i, data in enumerate(trainloader, 0):\n",
    "\n",
    "        netD.zero_grad()\n",
    "\n",
    "        real = data[0].to(device)\n",
    "        b_size = real.size(0)\n",
    "\n",
    "        label = torch.full((b_size,), real_label, dtype=torch.float, device=device)\n",
    "\n",
    "        output = netD(real).view(-1)\n",
    "\n",
    "        errD_r = criterion(output, label)\n",
    "\n",
    "        errD_r.backward()\n",
    "        #D_x = output.mean().item()\n",
    "\n",
    "        noise = torch.randn(b_size, 100, 1, 1, device=device)\n",
    "\n",
    "        fake = netG(noise)\n",
    "        label.fill_(fake_label)\n",
    "\n",
    "        output = netD(fake.detach()).view(-1)\n",
    "  \n",
    "        errD_f = criterion(output, label)\n",
    "        \n",
    "        errD_f.backward()\n",
    "        #D_G_z1 = output.mean().item()\n",
    "  \n",
    "        errD = errD_r + errD_f\n",
    "\n",
    "        optimizerD.step()\n",
    "\n",
    "\n",
    "        netG.zero_grad()\n",
    "        label.fill_(real_label) \n",
    " \n",
    "        output = netD(fake).view(-1)\n",
    "    \n",
    "        errG = criterion(output, label)\n",
    "        errG.backward()\n",
    "        #D_G_z2 = output.mean().item()\n",
    "        optimizerG.step()\n",
    "        if i % 50 == 0:\n",
    "            print('[%d/%d][%d/%d]\\tLoss_D: %.4f\\tLoss_G: %.4f\\t'\n",
    "                  % (epoch, num_epochs, i, len(trainloader),\n",
    "                     errD.item(), errG.item()))\n",
    "            #vutils.save_image(fake,'%s/results_epoch_%03d.png' % ('DCGAN/', epoch))\n",
    "            #vutils.save_image(real,'%s/real_results_epoch_%03d.png' % ('DCGAN/', epoch))\n",
    "            \n",
    "        #if epoch==100:\n",
    "                #vutils.save_image(fake,'%s/results_epoch_%03d.png' % ('DCGAN/', epoch))\n",
    "                #vutils.save_image(real,'%s/real_results_epoch_%03d.png' % ('DCGAN/', epoch))\n",
    "\n",
    "        G_losses.append(errG.item())\n",
    "        D_losses.append(errD.item())\n",
    "\n",
    "\n",
    "        if (iters % 500 == 0) or ((epoch == num_epochs-1) and (i == len(trainloader)-1)):\n",
    "            with torch.no_grad():\n",
    "                fake = netG(fixed_noise).detach().cpu()\n",
    "            img_list.append(vutils.make_grid(fake, padding=2, normalize=True))\n",
    "            real_img.append(vutils.make_grid(real, padding=2, normalize=True))\n",
    "\n",
    "        iters += 1"
   ]
  },
  {
   "cell_type": "code",
   "execution_count": null,
   "id": "86b5e49a-b492-4aac-96ba-f0d6fcbe97d4",
   "metadata": {},
   "outputs": [],
   "source": [
    "plt.figure(figsize=(10,5))\n",
    "plt.title(\"Generator and Discriminator Loss During Training\")\n",
    "plt.plot(G_losses,label=\"G\")\n",
    "plt.plot(D_losses,label=\"D\")\n",
    "plt.xlabel(\"iterations\")\n",
    "plt.ylabel(\"Loss\")\n",
    "plt.legend()\n",
    "plt.show()"
   ]
  },
  {
   "cell_type": "code",
   "execution_count": null,
   "id": "bcb33aea-a1b2-4e20-a4c8-db5c9ae555b8",
   "metadata": {},
   "outputs": [],
   "source": [
    "img_list[0]"
   ]
  },
  {
   "cell_type": "code",
   "execution_count": null,
   "id": "9efc1ad3-d928-49c3-a649-c1183ba19cb1",
   "metadata": {},
   "outputs": [],
   "source": [
    "fig = plt.figure(figsize=(8,8))\n",
    "plt.axis(\"off\")\n",
    "ims = [[plt.imshow(np.transpose(i,(1,2,0)), animated=True)] for i in img_list]\n",
    "ani = animation.ArtistAnimation(fig, ims, interval=1000, repeat_delay=1000, blit=True)\n",
    "\n",
    "HTML(ani.to_jshtml())"
   ]
  },
  {
   "cell_type": "code",
   "execution_count": null,
   "id": "0ed02446-de73-4960-96ac-a87dadacd2c0",
   "metadata": {},
   "outputs": [],
   "source": []
  },
  {
   "cell_type": "code",
   "execution_count": null,
   "id": "9749d6c2-1c1d-48c3-b33d-66de68789b2b",
   "metadata": {},
   "outputs": [],
   "source": []
  },
  {
   "cell_type": "code",
   "execution_count": null,
   "id": "1caac859-e858-46fb-8cbb-caa4a7c04e0d",
   "metadata": {},
   "outputs": [],
   "source": []
  },
  {
   "cell_type": "code",
   "execution_count": null,
   "id": "7ed884bc-6a36-4925-9b5d-9c1af5ff2ef6",
   "metadata": {},
   "outputs": [],
   "source": []
  },
  {
   "cell_type": "code",
   "execution_count": null,
   "id": "1e224fef-7498-440c-a9b8-3291964b1b74",
   "metadata": {},
   "outputs": [],
   "source": []
  },
  {
   "cell_type": "code",
   "execution_count": null,
   "id": "5dec8795-c666-4d34-b6f6-32433a2658d0",
   "metadata": {},
   "outputs": [],
   "source": []
  },
  {
   "cell_type": "code",
   "execution_count": null,
   "id": "7467e69c-907e-4838-ad04-379b6aec7f9c",
   "metadata": {},
   "outputs": [],
   "source": []
  },
  {
   "cell_type": "code",
   "execution_count": null,
   "id": "6aef513b-0ffb-4a2b-ab9e-acafdb6aaae9",
   "metadata": {},
   "outputs": [],
   "source": []
  },
  {
   "cell_type": "code",
   "execution_count": null,
   "id": "7c8ac0cf-b5df-4e32-b72f-5087b9e2f4fd",
   "metadata": {},
   "outputs": [],
   "source": []
  },
  {
   "cell_type": "code",
   "execution_count": null,
   "id": "ce55f577-f376-4691-8cf0-c5274862cdc8",
   "metadata": {},
   "outputs": [],
   "source": []
  },
  {
   "cell_type": "code",
   "execution_count": null,
   "id": "d9beaa1b-79d1-4e92-82de-389696b9f92e",
   "metadata": {},
   "outputs": [],
   "source": []
  },
  {
   "cell_type": "code",
   "execution_count": null,
   "id": "ddfcc6e4-d823-4200-aea4-1f8ba2af5a7e",
   "metadata": {},
   "outputs": [],
   "source": []
  }
 ],
 "metadata": {
  "kernelspec": {
   "display_name": "Python 3 (ipykernel)",
   "language": "python",
   "name": "python3"
  },
  "language_info": {
   "codemirror_mode": {
    "name": "ipython",
    "version": 3
   },
   "file_extension": ".py",
   "mimetype": "text/x-python",
   "name": "python",
   "nbconvert_exporter": "python",
   "pygments_lexer": "ipython3",
   "version": "3.9.12"
  }
 },
 "nbformat": 4,
 "nbformat_minor": 5
}
