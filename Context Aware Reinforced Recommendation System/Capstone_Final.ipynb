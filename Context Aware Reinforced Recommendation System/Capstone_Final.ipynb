{
 "cells": [
  {
   "cell_type": "code",
   "execution_count": 1,
   "id": "5dc2692b",
   "metadata": {},
   "outputs": [],
   "source": [
    "import numpy as np\n",
    "import pandas as pd"
   ]
  },
  {
   "cell_type": "markdown",
   "id": "898923f7",
   "metadata": {},
   "source": [
    "#### COURSE DATA"
   ]
  },
  {
   "cell_type": "code",
   "execution_count": 2,
   "id": "8f89e0d5",
   "metadata": {},
   "outputs": [],
   "source": [
    "df = pd.read_csv(\"course_data.csv\")"
   ]
  },
  {
   "cell_type": "code",
   "execution_count": 3,
   "id": "6a8d0a8d",
   "metadata": {},
   "outputs": [
    {
     "name": "stdout",
     "output_type": "stream",
     "text": [
      "<class 'pandas.core.frame.DataFrame'>\n",
      "RangeIndex: 1902 entries, 0 to 1901\n",
      "Data columns (total 16 columns):\n",
      " #   Column                          Non-Null Count  Dtype  \n",
      "---  ------                          --------------  -----  \n",
      " 0   Unnamed: 0                      1902 non-null   int64  \n",
      " 1   Course Title                    1902 non-null   object \n",
      " 2   Instructor                      1902 non-null   object \n",
      " 3   Rating                          1902 non-null   float64\n",
      " 4   No of students who gave rating  1902 non-null   object \n",
      " 5   Hours to complete course        1902 non-null   object \n",
      " 6   No of Lectures                  1902 non-null   object \n",
      " 7   Level                           1902 non-null   object \n",
      " 8   Image link                      1902 non-null   object \n",
      " 9   Course URL                      1902 non-null   object \n",
      " 10  Description                     1902 non-null   object \n",
      " 11  Discounted Price                1902 non-null   object \n",
      " 12  Price                           1902 non-null   object \n",
      " 13  Category                        1902 non-null   object \n",
      " 14  Subcategory                     1902 non-null   object \n",
      " 15  Sub subcategory                 1902 non-null   object \n",
      "dtypes: float64(1), int64(1), object(14)\n",
      "memory usage: 237.9+ KB\n"
     ]
    }
   ],
   "source": [
    "df.info()"
   ]
  },
  {
   "cell_type": "code",
   "execution_count": 4,
   "id": "4be30a4f",
   "metadata": {},
   "outputs": [],
   "source": [
    "df['No of students who gave rating']=pd.to_numeric(df['No of students who gave rating'].str.replace(\",\",\"\"))"
   ]
  },
  {
   "cell_type": "code",
   "execution_count": 5,
   "id": "c49a0b7a",
   "metadata": {},
   "outputs": [],
   "source": [
    "del df['Unnamed: 0']"
   ]
  },
  {
   "cell_type": "code",
   "execution_count": 6,
   "id": "a8f461c1",
   "metadata": {},
   "outputs": [],
   "source": [
    "l=['total hours','total hour']\n",
    "df['Hours to complete course']=df['Hours to complete course'].str.replace('|'.join(l),'', regex=True).str.strip()"
   ]
  },
  {
   "cell_type": "code",
   "execution_count": 7,
   "id": "ba80523e",
   "metadata": {},
   "outputs": [
    {
     "name": "stdout",
     "output_type": "stream",
     "text": [
      "<class 'str'>\n",
      "<class 'str'>\n",
      "<class 'str'>\n",
      "<class 'str'>\n",
      "<class 'str'>\n",
      "<class 'str'>\n",
      "<class 'str'>\n",
      "<class 'str'>\n",
      "<class 'str'>\n",
      "<class 'str'>\n"
     ]
    },
    {
     "name": "stderr",
     "output_type": "stream",
     "text": [
      "<ipython-input-7-5ec07f20f273>:7: SettingWithCopyWarning: \n",
      "A value is trying to be set on a copy of a slice from a DataFrame\n",
      "\n",
      "See the caveats in the documentation: https://pandas.pydata.org/pandas-docs/stable/user_guide/indexing.html#returning-a-view-versus-a-copy\n",
      "  df['Hours to complete course'][i]=int(j[0])/60\n"
     ]
    }
   ],
   "source": [
    "l1=['total min']\n",
    "for i  in range(0,len(df['Hours to complete course'])):\n",
    "    #print(i)\n",
    "    if l1[0] in df['Hours to complete course'][i]:\n",
    "        j = df['Hours to complete course'][i].split(\" \")\n",
    "        print(type(j[0]))\n",
    "        df['Hours to complete course'][i]=int(j[0])/60"
   ]
  },
  {
   "cell_type": "code",
   "execution_count": 8,
   "id": "3b62193e",
   "metadata": {},
   "outputs": [],
   "source": [
    "df=df.drop(df.index[[488]])"
   ]
  },
  {
   "cell_type": "code",
   "execution_count": 9,
   "id": "a0df0584",
   "metadata": {},
   "outputs": [],
   "source": [
    "df=df.drop(df.index[[626]])"
   ]
  },
  {
   "cell_type": "code",
   "execution_count": 10,
   "id": "5444ca35",
   "metadata": {},
   "outputs": [],
   "source": [
    "df=df.drop(df.index[[1638]])"
   ]
  },
  {
   "cell_type": "code",
   "execution_count": 11,
   "id": "a77ca3fb",
   "metadata": {},
   "outputs": [],
   "source": [
    "df['Hours to complete course']=pd.to_numeric(df['Hours to complete course'])"
   ]
  },
  {
   "cell_type": "code",
   "execution_count": 12,
   "id": "76959ee5",
   "metadata": {},
   "outputs": [],
   "source": [
    "l=['lectures']\n",
    "df['No of Lectures']=df['No of Lectures'].str.replace('|'.join(l),'', regex=True).str.strip()\n",
    "df['No of Lectures']=pd.to_numeric(df['No of Lectures'])"
   ]
  },
  {
   "cell_type": "code",
   "execution_count": 13,
   "id": "18d39f57",
   "metadata": {},
   "outputs": [],
   "source": [
    "list1 = {\"All Levels\": 1,\"Beginner\":2,\"Expert\":3,\"Intermediate\":4,\"Null\":0}\n",
    "df[\"Level\"]=df[\"Level\"].replace(list1)"
   ]
  },
  {
   "cell_type": "code",
   "execution_count": 14,
   "id": "1bf12afc",
   "metadata": {},
   "outputs": [],
   "source": [
    "df['Discounted Price']=df['Discounted Price'].str.replace('₹','')\n",
    "df['Discounted Price']=df['Discounted Price'].str.replace(',','')\n",
    "df['Price']=df['Price'].str.replace('₹','')\n",
    "df['Price']=df['Price'].str.replace(',','')\n",
    "df['Price']=pd.to_numeric(df['Price'])\n",
    "df['Discounted Price']=pd.to_numeric(df['Discounted Price'])"
   ]
  },
  {
   "cell_type": "code",
   "execution_count": 15,
   "id": "a6ab7ab6",
   "metadata": {
    "scrolled": true
   },
   "outputs": [
    {
     "data": {
      "text/plain": [
       "0       From Beginner to iOS App Developer with Just O...\n",
       "1       Learn Node.js by building real-world applicati...\n",
       "2       Learn modern HTML5, CSS3 and web design by bui...\n",
       "3       Become an In-demand SQL Master by creating com...\n",
       "4       Spring 5: Learn Spring 5 Core, AOP, Spring MVC...\n",
       "                              ...                        \n",
       "1897    Go from Beginner to Advanced by using Node.js,...\n",
       "1898    Master the important features and techniques o...\n",
       "1899    Learn PHP Data Object Objects or PDO and make ...\n",
       "1900                  Database Management Systems - MySQL\n",
       "1901    This tutorial will provide a good foundation o...\n",
       "Name: Description, Length: 1899, dtype: object"
      ]
     },
     "execution_count": 15,
     "metadata": {},
     "output_type": "execute_result"
    }
   ],
   "source": [
    "df['Description']"
   ]
  },
  {
   "cell_type": "markdown",
   "id": "1d5b617d",
   "metadata": {},
   "source": [
    "## Trial"
   ]
  },
  {
   "cell_type": "code",
   "execution_count": 19,
   "id": "cb7b886d",
   "metadata": {},
   "outputs": [],
   "source": [
    "import streamlit as st \n",
    "import streamlit.components.v1 as stc \n",
    "\n",
    "\n",
    "# Load EDA\n",
    "import pandas as pd \n",
    "from sklearn.feature_extraction.text import CountVectorizer\n",
    "from sklearn.metrics.pairwise import cosine_similarity,linear_kernel\n",
    "\n",
    "\n"
   ]
  },
  {
   "cell_type": "code",
   "execution_count": 20,
   "id": "4091aae2",
   "metadata": {},
   "outputs": [],
   "source": [
    "\n",
    "from sklearn.feature_extraction.text import CountVectorizer\n",
    "from sklearn.metrics.pairwise import cosine_similarity,linear_kernel"
   ]
  },
  {
   "cell_type": "code",
   "execution_count": 21,
   "id": "998e3753",
   "metadata": {},
   "outputs": [],
   "source": [
    "def vectorize_text_to_cosine_mat(data):\n",
    "    count_vect = CountVectorizer()\n",
    "    cv_mat = count_vect.fit_transform(data)\n",
    "    # Get the cosine\n",
    "    cosine_sim_mat = cosine_similarity(cv_mat)\n",
    "    return cosine_sim_mat"
   ]
  },
  {
   "cell_type": "code",
   "execution_count": 23,
   "id": "f4e944fc",
   "metadata": {},
   "outputs": [],
   "source": [
    "def get_recommendation(title,cosine_sim_mat,df,num_of_rec=10):\n",
    "    course_indices = pd.Series(df.index,index=df['Course Title']).drop_duplicates()\n",
    "    #print(course_indices)\n",
    "    # Index of course\n",
    "    idx = course_indices[title]\n",
    "\n",
    "# Look into the cosine matr for that index\n",
    "    sim_scores =list(enumerate(cosine_sim_mat[idx]))\n",
    "    sim_scores = sorted(sim_scores,key=lambda x: x[1],reverse=True)\n",
    "    selected_course_indices = [i[0] for i in sim_scores[1:]]\n",
    "    selected_course_scores = [i[0] for i in sim_scores[1:]]\n",
    "# Get the dataframe & title\n",
    "    result_df = df.iloc[selected_course_indices]\n",
    "    result_df['similarity_score'] = selected_course_scores\n",
    "    final_recommended_courses = result_df[['Course Title','Description','Subcategory','Sub subcategory','Price','Discounted Price','similarity_score']]\n",
    "    \n",
    "    #print (final_recommended_courses.head(num_of_rec))\n",
    "    return final_recommended_courses.head(num_of_rec)\n"
   ]
  },
  {
   "cell_type": "code",
   "execution_count": 49,
   "id": "2a69dcec",
   "metadata": {},
   "outputs": [],
   "source": [
    "cosine_sim_mat = vectorize_text_to_cosine_mat(df['Description'])"
   ]
  },
  {
   "cell_type": "code",
   "execution_count": 121,
   "id": "06b6ad8f",
   "metadata": {},
   "outputs": [],
   "source": [
    "search_term = \"Master Microservices with Spring Boot and Spring Cloud\""
   ]
  },
  {
   "cell_type": "code",
   "execution_count": 128,
   "id": "97dd53c7",
   "metadata": {},
   "outputs": [],
   "source": [
    "def initial_rec(search_item):\n",
    "    result=pd.DataFrame()\n",
    "    result=result.append(get_recommendation(search_item,cosine_sim_mat,df,5))\n",
    "    result=result.sort_values(by=['similarity_score'],ascending=False)\n",
    "    suggestion=pd.DataFrame()\n",
    "    result=result[:5]\n",
    "    suggestion1= result[['Course Title','Description','Subcategory','Sub subcategory','Price','Discounted Price']]\n",
    "    suggestion1['Visited'] = np.random.randint(0, 2, suggestion1.shape[0])\n",
    "    suggestion1['Enrolled'] = np.random.randint(0, 2, suggestion1.shape[0])\n",
    "    #print(suggestion1)\n",
    "    return suggestion1"
   ]
  },
  {
   "cell_type": "code",
   "execution_count": 93,
   "id": "5787fe2c",
   "metadata": {},
   "outputs": [],
   "source": [
    "result=pd.DataFrame()"
   ]
  },
  {
   "cell_type": "code",
   "execution_count": 96,
   "id": "0860c744",
   "metadata": {},
   "outputs": [],
   "source": [
    "def function_rec(choice):\n",
    "    result=pd.DataFrame()\n",
    "    for i in choice['Course Title']:\n",
    "        result=result.append(get_recommendation(i,cosine_sim_mat,df,5))\n",
    "    result.drop_duplicates(subset =\"Course Title\",keep = False, inplace = True)\n",
    "    result=result.sort_values(by=['similarity_score'],ascending=False)\n",
    "    suggestion=pd.DataFrame()\n",
    "    result=result[:5]\n",
    "    suggestion1= result[['Course Title','Description','Subcategory','Sub subcategory','Price','Discounted Price']]\n",
    "    suggestion1['Visited'] = np.random.randint(0, 2, suggestion1.shape[0])\n",
    "    suggestion1['Enrolled'] = np.random.randint(0, 2, suggestion1.shape[0])\n",
    "    return suggestion1\n",
    "    "
   ]
  },
  {
   "cell_type": "code",
   "execution_count": 147,
   "id": "7366ef34",
   "metadata": {},
   "outputs": [],
   "source": [
    "def function_rec1(choice,user_course):\n",
    "    result=pd.DataFrame()\n",
    "    for i in choice['Course Title']:\n",
    "        if i not in user_course:\n",
    "            result=result.append(get_recommendation(i,cosine_sim_mat,df,5))\n",
    "        else:\n",
    "            continue\n",
    "    result.drop_duplicates(subset =\"Course Title\",keep = False, inplace = True)\n",
    "    print(result)\n",
    "    result=result.sort_values(by=['similarity_score'],ascending=False)\n",
    "    suggestion=pd.DataFrame()\n",
    "    result=result[:5]\n",
    "    suggestion1= result[['Course Title','Description','Subcategory','Sub subcategory','Price','Discounted Price']]\n",
    "    suggestion1['Visited'] = np.random.randint(0, 2, suggestion1.shape[0])\n",
    "    suggestion1['Enrolled'] = np.random.randint(0, 2, suggestion1.shape[0])\n",
    "    return suggestion1"
   ]
  },
  {
   "cell_type": "code",
   "execution_count": 102,
   "id": "8bfbfd4c",
   "metadata": {},
   "outputs": [],
   "source": [
    "def selected(suggestion):\n",
    "    choice=suggestion.loc[suggestion['Enrolled'] == 1]\n",
    "    return choice"
   ]
  },
  {
   "cell_type": "code",
   "execution_count": 103,
   "id": "576055e5",
   "metadata": {},
   "outputs": [],
   "source": [
    "choice= selected(suggestion1)"
   ]
  },
  {
   "cell_type": "code",
   "execution_count": 146,
   "id": "e7eaa04e",
   "metadata": {},
   "outputs": [],
   "source": []
  },
  {
   "cell_type": "code",
   "execution_count": 116,
   "id": "48bcbdf6",
   "metadata": {},
   "outputs": [],
   "source": [
    "def user_course_append(choice):\n",
    "    user_course=[]\n",
    "    for i in choice['Course Title']:\n",
    "        user_course.append(i)\n",
    "    return user_course"
   ]
  },
  {
   "cell_type": "code",
   "execution_count": 151,
   "id": "2686d411",
   "metadata": {},
   "outputs": [],
   "source": [
    "user_course=[]"
   ]
  },
  {
   "cell_type": "code",
   "execution_count": 152,
   "id": "af0cb60c",
   "metadata": {
    "scrolled": false
   },
   "outputs": [
    {
     "name": "stderr",
     "output_type": "stream",
     "text": [
      "<ipython-input-23-df69789ed789>:14: SettingWithCopyWarning: \n",
      "A value is trying to be set on a copy of a slice from a DataFrame.\n",
      "Try using .loc[row_indexer,col_indexer] = value instead\n",
      "\n",
      "See the caveats in the documentation: https://pandas.pydata.org/pandas-docs/stable/user_guide/indexing.html#returning-a-view-versus-a-copy\n",
      "  result_df['similarity_score'] = selected_course_scores\n"
     ]
    }
   ],
   "source": [
    "first_rec=initial_rec(search_term)"
   ]
  },
  {
   "cell_type": "code",
   "execution_count": 153,
   "id": "4d3aac06",
   "metadata": {},
   "outputs": [],
   "source": [
    "choice=selected(first_rec)"
   ]
  },
  {
   "cell_type": "code",
   "execution_count": 154,
   "id": "c9e2d17f",
   "metadata": {
    "scrolled": true
   },
   "outputs": [],
   "source": [
    "user_course=user_course_append(choice)"
   ]
  },
  {
   "cell_type": "code",
   "execution_count": 155,
   "id": "08afdc7d",
   "metadata": {},
   "outputs": [
    {
     "name": "stdout",
     "output_type": "stream",
     "text": [
      "                                           Course Title  \\\n",
      "1001                          Angular 4 Java Developers   \n",
      "994   Learn Spring 5, Boot 2, JPA, Thymeleaf, AOP, W...   \n",
      "978   Building An E-Commerce Store Using Java Spring...   \n",
      "653               Testing Spring Boot: Beginner to Guru   \n",
      "419   Spring Boot Microservices with Spring Cloud Be...   \n",
      "\n",
      "                                            Description  \\\n",
      "1001  Learn How to Build Spring Boot & Angular Appli...   \n",
      "994   Master Modern Spring Boot, Spring Web MVC, AOP...   \n",
      "978   Hands-on experience with Spring MVC, Spring Da...   \n",
      "653   Become an Expert Testing Java and Spring Boot ...   \n",
      "419   Learn to Master Spring Boot Microservices with...   \n",
      "\n",
      "                Subcategory   Sub subcategory  Price  Discounted Price  \\\n",
      "1001        Web Development           Angular   8640               385   \n",
      "994   Programming Languages  Spring Framework   8640               385   \n",
      "978         Web Development  Spring Framework   6080               385   \n",
      "653        Software Testing             JUnit   8640               385   \n",
      "419    Software Engineering       Spring Boot   8640               385   \n",
      "\n",
      "      Visited  Enrolled  \n",
      "1001        0         1  \n",
      "994         0         0  \n",
      "978         1         1  \n",
      "653         1         0  \n",
      "419         1         0  \n"
     ]
    },
    {
     "name": "stderr",
     "output_type": "stream",
     "text": [
      "<ipython-input-23-df69789ed789>:14: SettingWithCopyWarning: \n",
      "A value is trying to be set on a copy of a slice from a DataFrame.\n",
      "Try using .loc[row_indexer,col_indexer] = value instead\n",
      "\n",
      "See the caveats in the documentation: https://pandas.pydata.org/pandas-docs/stable/user_guide/indexing.html#returning-a-view-versus-a-copy\n",
      "  result_df['similarity_score'] = selected_course_scores\n"
     ]
    }
   ],
   "source": [
    "function_rec(choice)"
   ]
  },
  {
   "cell_type": "code",
   "execution_count": null,
   "id": "4001f3d1",
   "metadata": {},
   "outputs": [],
   "source": []
  }
 ],
 "metadata": {
  "kernelspec": {
   "display_name": "Python 3",
   "language": "python",
   "name": "python3"
  },
  "language_info": {
   "codemirror_mode": {
    "name": "ipython",
    "version": 3
   },
   "file_extension": ".py",
   "mimetype": "text/x-python",
   "name": "python",
   "nbconvert_exporter": "python",
   "pygments_lexer": "ipython3",
   "version": "3.8.8"
  }
 },
 "nbformat": 4,
 "nbformat_minor": 5
}
