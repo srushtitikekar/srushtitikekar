{
  "nbformat": 4,
  "nbformat_minor": 0,
  "metadata": {
    "colab": {
      "provenance": [],
      "authorship_tag": "ABX9TyO51atdQlpc5M5f1Yuocajj",
      "include_colab_link": true
    },
    "kernelspec": {
      "name": "python3",
      "display_name": "Python 3"
    },
    "language_info": {
      "name": "python"
    }
  },
  "cells": [
    {
      "cell_type": "markdown",
      "metadata": {
        "id": "view-in-github",
        "colab_type": "text"
      },
      "source": [
        "<a href=\"https://colab.research.google.com/github/srushtitikekar/srushtitikekar/blob/main/RandomForest_Brightness.ipynb\" target=\"_parent\"><img src=\"https://colab.research.google.com/assets/colab-badge.svg\" alt=\"Open In Colab\"/></a>"
      ]
    },
    {
      "cell_type": "code",
      "source": [
        "from sklearn.datasets import load_iris\n",
        "from sklearn.model_selection import train_test_split\n",
        "from sklearn.ensemble import RandomForestClassifier\n",
        "import numpy as np\n",
        "\n",
        "# Load the Iris dataset as an example\n",
        "iris = load_iris()\n",
        "X = iris.data\n",
        "y = iris.target\n",
        "\n",
        "# Split the data into initial labeled data and unlabeled data\n",
        "X_labeled, X_unlabeled, y_labeled, y_unlabeled = train_test_split(X, y, test_size=0.9, random_state=42)\n",
        "\n",
        "# Initialize a Random Forest classifier (you can use any classifier)\n",
        "classifier = RandomForestClassifier()\n",
        "\n",
        "# Train the classifier on the initial labeled data\n",
        "classifier.fit(X_labeled, y_labeled)\n",
        "\n",
        "# Active learning loop\n",
        "num_iterations = 10\n",
        "batch_size = 5\n",
        "\n",
        "for _ in range(num_iterations):\n",
        "    # Predict class probabilities for the unlabeled data\n",
        "    y_probabilities = classifier.predict_proba(X_unlabeled)\n",
        "\n",
        "    # Calculate uncertainty scores using the least confident strategy\n",
        "    uncertainty_scores = 1 - np.max(y_probabilities, axis=1)\n",
        "\n",
        "    # Select the indices of instances with the highest uncertainty\n",
        "    selected_indices = np.argsort(uncertainty_scores)[-batch_size:]\n",
        "\n",
        "    # Add the selected instances to the labeled data\n",
        "    X_labeled = np.vstack([X_labeled, X_unlabeled[selected_indices]])\n",
        "    y_labeled = np.concatenate([y_labeled, y_unlabeled[selected_indices]])\n",
        "\n",
        "    # Remove the selected instances from the unlabeled data\n",
        "    X_unlabeled = np.delete(X_unlabeled, selected_indices, axis=0)\n",
        "    y_unlabeled = np.delete(y_unlabeled, selected_indices)\n",
        "\n",
        "    # Retrain the classifier on the updated labeled data\n",
        "    classifier.fit(X_labeled, y_labeled)\n",
        "\n",
        "# Evaluate the final classifier on a test set\n",
        "X_test, y_test = X_unlabeled, y_unlabeled\n",
        "accuracy = classifier.score(X_test, y_test)\n",
        "print(\"Final Test Accuracy:\", accuracy)\n"
      ],
      "metadata": {
        "colab": {
          "base_uri": "https://localhost:8080/"
        },
        "id": "GDQ9n0epwb36",
        "outputId": "facc54cc-9a47-434d-f0cf-31ed700b56b5"
      },
      "execution_count": 23,
      "outputs": [
        {
          "output_type": "stream",
          "name": "stdout",
          "text": [
            "Final Test Accuracy: 1.0\n"
          ]
        }
      ]
    },
    {
      "cell_type": "code",
      "source": [
        "from sklearn.datasets import load_iris\n",
        "from sklearn.model_selection import train_test_split\n",
        "from sklearn.ensemble import RandomForestClassifier\n",
        "import numpy as np"
      ],
      "metadata": {
        "id": "QGiX0sx3x17r"
      },
      "execution_count": 25,
      "outputs": []
    },
    {
      "cell_type": "code",
      "source": [
        "visual_dataset = pd.read_csv('Visual_with_labels.csv')"
      ],
      "metadata": {
        "id": "kVL2Xe96zXVX"
      },
      "execution_count": 26,
      "outputs": []
    },
    {
      "cell_type": "code",
      "source": [
        "V1=visual_dataset.to_dict()"
      ],
      "metadata": {
        "id": "oq_j6PWfzxNN"
      },
      "execution_count": 30,
      "outputs": []
    },
    {
      "cell_type": "code",
      "source": [
        "visual_dataset1 = visual_dataset.filter(['Email Id','Age','Education','Gender','Visual Acuity Left','Visual Acuity Right','FOV','Plate_Score','Irelen Score','Sensitive Colors'],axis=1)"
      ],
      "metadata": {
        "id": "4oUIUZjPz1td"
      },
      "execution_count": null,
      "outputs": []
    },
    {
      "cell_type": "code",
      "source": [
        "type(iris)"
      ],
      "metadata": {
        "colab": {
          "base_uri": "https://localhost:8080/"
        },
        "id": "NZ17dlxPzbWN",
        "outputId": "8fa7fc99-6752-41ab-9ae8-884f5959ad20"
      },
      "execution_count": 29,
      "outputs": [
        {
          "output_type": "execute_result",
          "data": {
            "text/plain": [
              "sklearn.utils._bunch.Bunch"
            ]
          },
          "metadata": {},
          "execution_count": 29
        }
      ]
    },
    {
      "cell_type": "code",
      "source": [
        "Brightness = visual_dataset.filter(['M_Brightness'])"
      ],
      "metadata": {
        "id": "1iXXOe7azYEb"
      },
      "execution_count": 31,
      "outputs": []
    },
    {
      "cell_type": "code",
      "source": [
        "X_labeled, X_unlabeled, y_labeled, y_unlabeled = train_test_split(visual_dataset1, Brightness, test_size=0.9, random_state=42)"
      ],
      "metadata": {
        "id": "L_h_nQZO4ooo"
      },
      "execution_count": 32,
      "outputs": []
    },
    {
      "cell_type": "code",
      "source": [
        "classifier = RandomForestClassifier()"
      ],
      "metadata": {
        "id": "taiNpWxH4u2W"
      },
      "execution_count": 33,
      "outputs": []
    },
    {
      "cell_type": "code",
      "source": [
        "classifier.fit(X_labeled, y_labeled)"
      ],
      "metadata": {
        "colab": {
          "base_uri": "https://localhost:8080/",
          "height": 130
        },
        "id": "v-dEATo-4yRi",
        "outputId": "608dabdd-a8c9-47a6-c6c8-4bc194d37419"
      },
      "execution_count": 34,
      "outputs": [
        {
          "output_type": "stream",
          "name": "stderr",
          "text": [
            "/usr/local/lib/python3.10/dist-packages/sklearn/base.py:1151: DataConversionWarning: A column-vector y was passed when a 1d array was expected. Please change the shape of y to (n_samples,), for example using ravel().\n",
            "  return fit_method(estimator, *args, **kwargs)\n"
          ]
        },
        {
          "output_type": "execute_result",
          "data": {
            "text/plain": [
              "RandomForestClassifier()"
            ],
            "text/html": [
              "<style>#sk-container-id-1 {color: black;}#sk-container-id-1 pre{padding: 0;}#sk-container-id-1 div.sk-toggleable {background-color: white;}#sk-container-id-1 label.sk-toggleable__label {cursor: pointer;display: block;width: 100%;margin-bottom: 0;padding: 0.3em;box-sizing: border-box;text-align: center;}#sk-container-id-1 label.sk-toggleable__label-arrow:before {content: \"▸\";float: left;margin-right: 0.25em;color: #696969;}#sk-container-id-1 label.sk-toggleable__label-arrow:hover:before {color: black;}#sk-container-id-1 div.sk-estimator:hover label.sk-toggleable__label-arrow:before {color: black;}#sk-container-id-1 div.sk-toggleable__content {max-height: 0;max-width: 0;overflow: hidden;text-align: left;background-color: #f0f8ff;}#sk-container-id-1 div.sk-toggleable__content pre {margin: 0.2em;color: black;border-radius: 0.25em;background-color: #f0f8ff;}#sk-container-id-1 input.sk-toggleable__control:checked~div.sk-toggleable__content {max-height: 200px;max-width: 100%;overflow: auto;}#sk-container-id-1 input.sk-toggleable__control:checked~label.sk-toggleable__label-arrow:before {content: \"▾\";}#sk-container-id-1 div.sk-estimator input.sk-toggleable__control:checked~label.sk-toggleable__label {background-color: #d4ebff;}#sk-container-id-1 div.sk-label input.sk-toggleable__control:checked~label.sk-toggleable__label {background-color: #d4ebff;}#sk-container-id-1 input.sk-hidden--visually {border: 0;clip: rect(1px 1px 1px 1px);clip: rect(1px, 1px, 1px, 1px);height: 1px;margin: -1px;overflow: hidden;padding: 0;position: absolute;width: 1px;}#sk-container-id-1 div.sk-estimator {font-family: monospace;background-color: #f0f8ff;border: 1px dotted black;border-radius: 0.25em;box-sizing: border-box;margin-bottom: 0.5em;}#sk-container-id-1 div.sk-estimator:hover {background-color: #d4ebff;}#sk-container-id-1 div.sk-parallel-item::after {content: \"\";width: 100%;border-bottom: 1px solid gray;flex-grow: 1;}#sk-container-id-1 div.sk-label:hover label.sk-toggleable__label {background-color: #d4ebff;}#sk-container-id-1 div.sk-serial::before {content: \"\";position: absolute;border-left: 1px solid gray;box-sizing: border-box;top: 0;bottom: 0;left: 50%;z-index: 0;}#sk-container-id-1 div.sk-serial {display: flex;flex-direction: column;align-items: center;background-color: white;padding-right: 0.2em;padding-left: 0.2em;position: relative;}#sk-container-id-1 div.sk-item {position: relative;z-index: 1;}#sk-container-id-1 div.sk-parallel {display: flex;align-items: stretch;justify-content: center;background-color: white;position: relative;}#sk-container-id-1 div.sk-item::before, #sk-container-id-1 div.sk-parallel-item::before {content: \"\";position: absolute;border-left: 1px solid gray;box-sizing: border-box;top: 0;bottom: 0;left: 50%;z-index: -1;}#sk-container-id-1 div.sk-parallel-item {display: flex;flex-direction: column;z-index: 1;position: relative;background-color: white;}#sk-container-id-1 div.sk-parallel-item:first-child::after {align-self: flex-end;width: 50%;}#sk-container-id-1 div.sk-parallel-item:last-child::after {align-self: flex-start;width: 50%;}#sk-container-id-1 div.sk-parallel-item:only-child::after {width: 0;}#sk-container-id-1 div.sk-dashed-wrapped {border: 1px dashed gray;margin: 0 0.4em 0.5em 0.4em;box-sizing: border-box;padding-bottom: 0.4em;background-color: white;}#sk-container-id-1 div.sk-label label {font-family: monospace;font-weight: bold;display: inline-block;line-height: 1.2em;}#sk-container-id-1 div.sk-label-container {text-align: center;}#sk-container-id-1 div.sk-container {/* jupyter's `normalize.less` sets `[hidden] { display: none; }` but bootstrap.min.css set `[hidden] { display: none !important; }` so we also need the `!important` here to be able to override the default hidden behavior on the sphinx rendered scikit-learn.org. See: https://github.com/scikit-learn/scikit-learn/issues/21755 */display: inline-block !important;position: relative;}#sk-container-id-1 div.sk-text-repr-fallback {display: none;}</style><div id=\"sk-container-id-1\" class=\"sk-top-container\"><div class=\"sk-text-repr-fallback\"><pre>RandomForestClassifier()</pre><b>In a Jupyter environment, please rerun this cell to show the HTML representation or trust the notebook. <br />On GitHub, the HTML representation is unable to render, please try loading this page with nbviewer.org.</b></div><div class=\"sk-container\" hidden><div class=\"sk-item\"><div class=\"sk-estimator sk-toggleable\"><input class=\"sk-toggleable__control sk-hidden--visually\" id=\"sk-estimator-id-1\" type=\"checkbox\" checked><label for=\"sk-estimator-id-1\" class=\"sk-toggleable__label sk-toggleable__label-arrow\">RandomForestClassifier</label><div class=\"sk-toggleable__content\"><pre>RandomForestClassifier()</pre></div></div></div></div></div>"
            ]
          },
          "metadata": {},
          "execution_count": 34
        }
      ]
    },
    {
      "cell_type": "code",
      "source": [
        "Y_pred = classifier.predict(X_unlabeled)"
      ],
      "metadata": {
        "id": "A7m-bw_i8BoI"
      },
      "execution_count": 39,
      "outputs": []
    },
    {
      "cell_type": "code",
      "source": [
        "Y_pred, y_unlabeled"
      ],
      "metadata": {
        "colab": {
          "base_uri": "https://localhost:8080/"
        },
        "id": "SBxzthJP8HKQ",
        "outputId": "ed328b84-b532-4b0c-d34c-ff04c0d849cd"
      },
      "execution_count": 41,
      "outputs": [
        {
          "output_type": "execute_result",
          "data": {
            "text/plain": [
              "(array([2, 2, 1, 2, 3, 2, 2, 2, 2, 3, 3, 2, 3, 2, 2, 2, 3, 2, 2, 2, 2, 2,\n",
              "        2, 2, 2, 2, 2, 2, 2, 2, 2, 2, 2, 2, 2, 2, 2, 2, 3, 2, 2, 2, 2, 3,\n",
              "        2, 2, 2, 2, 1, 3, 2, 2, 3, 2, 1, 2, 2, 3, 3, 3, 3, 3, 1, 2, 3, 2,\n",
              "        2, 2, 2, 2, 2, 2, 2, 2, 2, 3, 2, 2, 2, 2, 3, 2, 2, 3, 2, 3, 2, 2,\n",
              "        2, 2, 2, 2, 3, 2, 3, 2, 2, 2, 3, 2, 2, 2, 2, 2, 3, 2, 2, 2, 2, 2,\n",
              "        2, 3, 3, 2, 2, 3, 2, 2, 2, 2, 1, 2, 2, 2, 3, 2, 2, 2, 2, 3, 1, 2,\n",
              "        2, 2, 2, 3, 2, 3, 2, 2, 3, 2, 2, 2, 2, 2, 2, 2, 2, 2, 2, 2, 3, 2,\n",
              "        2, 2, 2, 3, 3, 3, 2, 2, 2, 3, 2, 2, 2, 2, 2, 2, 2, 2, 3, 3, 3, 2,\n",
              "        2]),\n",
              "      M_Brightness\n",
              " 139             3\n",
              " 113             2\n",
              " 16              2\n",
              " 75              3\n",
              " 154             3\n",
              " ..            ...\n",
              " 129             3\n",
              " 37              3\n",
              " 157             3\n",
              " 184             2\n",
              " 1               1\n",
              " \n",
              " [177 rows x 1 columns])"
            ]
          },
          "metadata": {},
          "execution_count": 41
        }
      ]
    },
    {
      "cell_type": "code",
      "source": [
        "from sklearn.metrics import confusion_matrix,ConfusionMatrixDisplay\n",
        "import matplotlib.pyplot as plt\n",
        "s = confusion_matrix(y_unlabeled,Y_pred)"
      ],
      "metadata": {
        "id": "_NW1udqB8qPF"
      },
      "execution_count": 46,
      "outputs": []
    },
    {
      "cell_type": "code",
      "source": [
        "s"
      ],
      "metadata": {
        "colab": {
          "base_uri": "https://localhost:8080/"
        },
        "id": "6BffPQNH8468",
        "outputId": "71eb8e44-9394-45e9-bc68-aef185625ef3"
      },
      "execution_count": 47,
      "outputs": [
        {
          "output_type": "execute_result",
          "data": {
            "text/plain": [
              "array([[ 1, 13,  0],\n",
              "       [ 5, 87,  3],\n",
              "       [ 0, 32, 36]])"
            ]
          },
          "metadata": {},
          "execution_count": 47
        }
      ]
    },
    {
      "cell_type": "code",
      "source": [
        "disp = ConfusionMatrixDisplay(confusion_matrix=s)\n",
        "disp.plot()\n",
        "plt.show()"
      ],
      "metadata": {
        "colab": {
          "base_uri": "https://localhost:8080/",
          "height": 449
        },
        "id": "5ZGqf0c19DfU",
        "outputId": "a82c9cbb-edb8-4088-b77c-3a7657ae2e8b"
      },
      "execution_count": 49,
      "outputs": [
        {
          "output_type": "display_data",
          "data": {
            "text/plain": [
              "<Figure size 640x480 with 2 Axes>"
            ],
            "image/png": "[encoded data removed]"
          },
          "metadata": {}
        }
      ]
    },
    {
      "cell_type": "code",
      "source": [],
      "metadata": {
        "id": "wRWtp6bf8HRf"
      },
      "execution_count": null,
      "outputs": []
    },
    {
      "cell_type": "code",
      "source": [
        "num_iterations = 10\n",
        "batch_size = 5\n",
        "\n",
        "for _ in range(num_iterations):\n",
        "    # Predict class probabilities for the unlabeled data\n",
        "    y_probabilities = classifier.predict_proba(X_unlabeled)\n",
        "    print(X_unlabeled)\n",
        "    print(y_probabilities)\n",
        "    # Calculate uncertainty scores using the least confident strategy\n",
        "    uncertainty_scores = 1 - np.max(y_probabilities, axis=1)\n",
        "    print(uncertainty_scores)\n",
        "    # Select the indices of instances with the highest uncertainty\n",
        "    selected_indices = np.argsort(uncertainty_scores)[-batch_size:]\n",
        "    print(selected_indices)\n",
        "\n",
        "    # Add the selected instances to the labeled data\n",
        "    X_labeled = np.vstack([X_labeled, X_unlabeled[selected_indices]])\n",
        "    y_labeled = np.concatenate([y_labeled, y_unlabeled[selected_indices]])\n",
        "\n",
        "    # Remove the selected instances from the unlabeled data\n",
        "    X_unlabeled = np.delete(X_unlabeled, selected_indices, axis=0)\n",
        "    y_unlabeled = np.delete(y_unlabeled, selected_indices)\n",
        "\n",
        "    # Retrain the classifier on the updated labeled data\n",
        "    classifier.fit(X_labeled, y_labeled)\n",
        "\n",
        "# Evaluate the final classifier on a test set\n",
        "X_test, y_test = X_unlabeled, y_unlabeled\n",
        "accuracy = classifier.score(X_test, y_test)\n",
        "print(\"Final Test Accuracy:\", accuracy)"
      ],
      "metadata": {
        "colab": {
          "base_uri": "https://localhost:8080/",
          "height": 1000
        },
        "id": "1NAyXD7M4zXl",
        "outputId": "11df593b-047f-465d-b1a5-444d1815ccd8"
      },
      "execution_count": 38,
      "outputs": [
        {
          "output_type": "stream",
          "name": "stdout",
          "text": [
            "     Age  Education  Visual Acuity Left  Visual Acuity Right  FOV  \\\n",
            "139   34          4                 150                  108    4   \n",
            "113   34          2                 108                  125   45   \n",
            "16    24          5                  25                   50   18   \n",
            "75    96          4                  60                  150   94   \n",
            "154   66          0                 200                  150  133   \n",
            "..   ...        ...                 ...                  ...  ...   \n",
            "129   86          3                 125                  400   92   \n",
            "37    20          5                  30                  200  134   \n",
            "157   30          0                 400                   25   28   \n",
            "184   28          0                  65                   25  130   \n",
            "1     80          5                  20                   30   72   \n",
            "\n",
            "     Plate_Score  Irelen Score  Sensitive Colors  \n",
            "139            8             0                 1  \n",
            "113            8             1                 2  \n",
            "16             8            13                 0  \n",
            "75            15             1                 2  \n",
            "154            9            10                 2  \n",
            "..           ...           ...               ...  \n",
            "129            0             0                 0  \n",
            "37             9            15                 0  \n",
            "157            6             8                 1  \n",
            "184            0             5                 2  \n",
            "1              8             1                 1  \n",
            "\n",
            "[177 rows x 8 columns]\n",
            "[[0.02 0.59 0.39]\n",
            " [0.01 0.79 0.2 ]\n",
            " [0.35 0.33 0.32]\n",
            " [0.04 0.67 0.29]\n",
            " [0.04 0.33 0.63]\n",
            " [0.08 0.51 0.41]\n",
            " [0.06 0.78 0.16]\n",
            " [0.1  0.67 0.23]\n",
            " [0.22 0.59 0.19]\n",
            " [0.14 0.17 0.69]\n",
            " [0.05 0.35 0.6 ]\n",
            " [0.17 0.76 0.07]\n",
            " [0.22 0.23 0.55]\n",
            " [0.06 0.69 0.25]\n",
            " [0.02 0.66 0.32]\n",
            " [0.07 0.57 0.36]\n",
            " [0.05 0.46 0.49]\n",
            " [0.05 0.76 0.19]\n",
            " [0.07 0.68 0.25]\n",
            " [0.38 0.41 0.21]\n",
            " [0.02 0.76 0.22]\n",
            " [0.13 0.62 0.25]\n",
            " [0.09 0.52 0.39]\n",
            " [0.36 0.38 0.26]\n",
            " [0.02 0.84 0.14]\n",
            " [0.06 0.59 0.35]\n",
            " [0.01 0.62 0.37]\n",
            " [0.02 0.72 0.26]\n",
            " [0.07 0.86 0.07]\n",
            " [0.26 0.6  0.14]\n",
            " [0.1  0.67 0.23]\n",
            " [0.02 0.51 0.47]\n",
            " [0.03 0.81 0.16]\n",
            " [0.23 0.4  0.37]\n",
            " [0.08 0.5  0.42]\n",
            " [0.02 0.79 0.19]\n",
            " [0.05 0.69 0.26]\n",
            " [0.07 0.83 0.1 ]\n",
            " [0.02 0.43 0.55]\n",
            " [0.06 0.52 0.42]\n",
            " [0.08 0.73 0.19]\n",
            " [0.06 0.62 0.32]\n",
            " [0.1  0.52 0.38]\n",
            " [0.05 0.46 0.49]\n",
            " [0.02 0.53 0.45]\n",
            " [0.05 0.6  0.35]\n",
            " [0.04 0.53 0.43]\n",
            " [0.03 0.59 0.38]\n",
            " [0.42 0.39 0.19]\n",
            " [0.23 0.21 0.56]\n",
            " [0.14 0.74 0.12]\n",
            " [0.   0.85 0.15]\n",
            " [0.02 0.45 0.53]\n",
            " [0.06 0.65 0.29]\n",
            " [0.52 0.25 0.23]\n",
            " [0.1  0.65 0.25]\n",
            " [0.16 0.59 0.25]\n",
            " [0.05 0.32 0.63]\n",
            " [0.04 0.46 0.5 ]\n",
            " [0.15 0.41 0.44]\n",
            " [0.   0.26 0.74]\n",
            " [0.12 0.32 0.56]\n",
            " [0.4  0.35 0.25]\n",
            " [0.02 0.77 0.21]\n",
            " [0.08 0.39 0.53]\n",
            " [0.06 0.85 0.09]\n",
            " [0.01 0.93 0.06]\n",
            " [0.01 0.88 0.11]\n",
            " [0.1  0.63 0.27]\n",
            " [0.02 0.66 0.32]\n",
            " [0.03 0.61 0.36]\n",
            " [0.24 0.7  0.06]\n",
            " [0.33 0.53 0.14]\n",
            " [0.08 0.65 0.27]\n",
            " [0.15 0.47 0.38]\n",
            " [0.27 0.22 0.51]\n",
            " [0.02 0.64 0.34]\n",
            " [0.14 0.53 0.33]\n",
            " [0.03 0.9  0.07]\n",
            " [0.18 0.71 0.11]\n",
            " [0.   0.49 0.51]\n",
            " [0.2  0.42 0.38]\n",
            " [0.19 0.63 0.18]\n",
            " [0.27 0.33 0.4 ]\n",
            " [0.   0.82 0.18]\n",
            " [0.13 0.3  0.57]\n",
            " [0.09 0.51 0.4 ]\n",
            " [0.12 0.66 0.22]\n",
            " [0.02 0.58 0.4 ]\n",
            " [0.11 0.6  0.29]\n",
            " [0.02 0.86 0.12]\n",
            " [0.01 0.7  0.29]\n",
            " [0.15 0.19 0.66]\n",
            " [0.07 0.63 0.3 ]\n",
            " [0.   0.38 0.62]\n",
            " [0.06 0.53 0.41]\n",
            " [0.24 0.49 0.27]\n",
            " [0.   0.56 0.44]\n",
            " [0.   0.43 0.57]\n",
            " [0.1  0.6  0.3 ]\n",
            " [0.08 0.81 0.11]\n",
            " [0.09 0.56 0.35]\n",
            " [0.   0.89 0.11]\n",
            " [0.01 0.67 0.32]\n",
            " [0.37 0.24 0.39]\n",
            " [0.15 0.65 0.2 ]\n",
            " [0.12 0.71 0.17]\n",
            " [0.09 0.67 0.24]\n",
            " [0.25 0.64 0.11]\n",
            " [0.05 0.5  0.45]\n",
            " [0.16 0.69 0.15]\n",
            " [0.01 0.38 0.61]\n",
            " [0.24 0.35 0.41]\n",
            " [0.17 0.64 0.19]\n",
            " [0.07 0.66 0.27]\n",
            " [0.12 0.32 0.56]\n",
            " [0.02 0.56 0.42]\n",
            " [0.14 0.49 0.37]\n",
            " [0.14 0.43 0.43]\n",
            " [0.1  0.75 0.15]\n",
            " [0.5  0.38 0.12]\n",
            " [0.04 0.65 0.31]\n",
            " [0.01 0.66 0.33]\n",
            " [0.03 0.72 0.25]\n",
            " [0.04 0.32 0.64]\n",
            " [0.15 0.7  0.15]\n",
            " [0.02 0.51 0.47]\n",
            " [0.03 0.78 0.19]\n",
            " [0.11 0.72 0.17]\n",
            " [0.04 0.45 0.51]\n",
            " [0.52 0.25 0.23]\n",
            " [0.02 0.56 0.42]\n",
            " [0.24 0.63 0.13]\n",
            " [0.01 0.84 0.15]\n",
            " [0.03 0.86 0.11]\n",
            " [0.05 0.44 0.51]\n",
            " [0.02 0.86 0.12]\n",
            " [0.01 0.32 0.67]\n",
            " [0.12 0.58 0.3 ]\n",
            " [0.32 0.35 0.33]\n",
            " [0.06 0.45 0.49]\n",
            " [0.18 0.56 0.26]\n",
            " [0.1  0.78 0.12]\n",
            " [0.01 0.51 0.48]\n",
            " [0.18 0.48 0.34]\n",
            " [0.09 0.53 0.38]\n",
            " [0.   0.65 0.35]\n",
            " [0.06 0.53 0.41]\n",
            " [0.13 0.49 0.38]\n",
            " [0.14 0.64 0.22]\n",
            " [0.23 0.61 0.16]\n",
            " [0.04 0.59 0.37]\n",
            " [0.   0.35 0.65]\n",
            " [0.05 0.6  0.35]\n",
            " [0.22 0.62 0.16]\n",
            " [0.12 0.64 0.24]\n",
            " [0.01 0.56 0.43]\n",
            " [0.03 0.47 0.5 ]\n",
            " [0.03 0.36 0.61]\n",
            " [0.01 0.45 0.54]\n",
            " [0.06 0.62 0.32]\n",
            " [0.09 0.81 0.1 ]\n",
            " [0.02 0.66 0.32]\n",
            " [0.13 0.34 0.53]\n",
            " [0.   0.94 0.06]\n",
            " [0.03 0.9  0.07]\n",
            " [0.06 0.83 0.11]\n",
            " [0.13 0.63 0.24]\n",
            " [0.13 0.75 0.12]\n",
            " [0.22 0.66 0.12]\n",
            " [0.02 0.49 0.49]\n",
            " [0.08 0.51 0.41]\n",
            " [0.09 0.45 0.46]\n",
            " [0.3  0.24 0.46]\n",
            " [0.04 0.33 0.63]\n",
            " [0.27 0.49 0.24]\n",
            " [0.11 0.75 0.14]]\n",
            "[0.41 0.21 0.65 0.33 0.37 0.49 0.22 0.33 0.41 0.31 0.4  0.24 0.45 0.31\n",
            " 0.34 0.43 0.51 0.24 0.32 0.59 0.24 0.38 0.48 0.62 0.16 0.41 0.38 0.28\n",
            " 0.14 0.4  0.33 0.49 0.19 0.6  0.5  0.21 0.31 0.17 0.45 0.48 0.27 0.38\n",
            " 0.48 0.51 0.47 0.4  0.47 0.41 0.58 0.44 0.26 0.15 0.47 0.35 0.48 0.35\n",
            " 0.41 0.37 0.5  0.56 0.26 0.44 0.6  0.23 0.47 0.15 0.07 0.12 0.37 0.34\n",
            " 0.39 0.3  0.47 0.35 0.53 0.49 0.36 0.47 0.1  0.29 0.49 0.58 0.37 0.6\n",
            " 0.18 0.43 0.49 0.34 0.42 0.4  0.14 0.3  0.34 0.37 0.38 0.47 0.51 0.44\n",
            " 0.43 0.4  0.19 0.44 0.11 0.33 0.61 0.35 0.29 0.33 0.36 0.5  0.31 0.39\n",
            " 0.59 0.36 0.34 0.44 0.44 0.51 0.57 0.25 0.5  0.35 0.34 0.28 0.36 0.3\n",
            " 0.49 0.22 0.28 0.49 0.48 0.44 0.37 0.16 0.14 0.49 0.14 0.33 0.42 0.65\n",
            " 0.51 0.44 0.22 0.49 0.52 0.47 0.35 0.47 0.51 0.36 0.39 0.41 0.35 0.4\n",
            " 0.38 0.36 0.44 0.5  0.39 0.46 0.38 0.19 0.34 0.47 0.06 0.1  0.17 0.37\n",
            " 0.25 0.34 0.51 0.49 0.54 0.54 0.37 0.51 0.25]\n",
            "[ 62 104  23   2 139]\n"
          ]
        },
        {
          "output_type": "error",
          "ename": "KeyError",
          "evalue": "ignored",
          "traceback": [
            "\u001b[0;31m---------------------------------------------------------------------------\u001b[0m",
            "\u001b[0;31mKeyError\u001b[0m                                  Traceback (most recent call last)",
            "\u001b[0;32m<ipython-input-38-ec6857ef1b1d>\u001b[0m in \u001b[0;36m<cell line: 4>\u001b[0;34m()\u001b[0m\n\u001b[1;32m     15\u001b[0m \u001b[0;34m\u001b[0m\u001b[0m\n\u001b[1;32m     16\u001b[0m     \u001b[0;31m# Add the selected instances to the labeled data\u001b[0m\u001b[0;34m\u001b[0m\u001b[0;34m\u001b[0m\u001b[0m\n\u001b[0;32m---> 17\u001b[0;31m     \u001b[0mX_labeled\u001b[0m \u001b[0;34m=\u001b[0m \u001b[0mnp\u001b[0m\u001b[0;34m.\u001b[0m\u001b[0mvstack\u001b[0m\u001b[0;34m(\u001b[0m\u001b[0;34m[\u001b[0m\u001b[0mX_labeled\u001b[0m\u001b[0;34m,\u001b[0m \u001b[0mX_unlabeled\u001b[0m\u001b[0;34m[\u001b[0m\u001b[0mselected_indices\u001b[0m\u001b[0;34m]\u001b[0m\u001b[0;34m]\u001b[0m\u001b[0;34m)\u001b[0m\u001b[0;34m\u001b[0m\u001b[0;34m\u001b[0m\u001b[0m\n\u001b[0m\u001b[1;32m     18\u001b[0m     \u001b[0my_labeled\u001b[0m \u001b[0;34m=\u001b[0m \u001b[0mnp\u001b[0m\u001b[0;34m.\u001b[0m\u001b[0mconcatenate\u001b[0m\u001b[0;34m(\u001b[0m\u001b[0;34m[\u001b[0m\u001b[0my_labeled\u001b[0m\u001b[0;34m,\u001b[0m \u001b[0my_unlabeled\u001b[0m\u001b[0;34m[\u001b[0m\u001b[0mselected_indices\u001b[0m\u001b[0;34m]\u001b[0m\u001b[0;34m]\u001b[0m\u001b[0;34m)\u001b[0m\u001b[0;34m\u001b[0m\u001b[0;34m\u001b[0m\u001b[0m\n\u001b[1;32m     19\u001b[0m \u001b[0;34m\u001b[0m\u001b[0m\n",
            "\u001b[0;32m/usr/local/lib/python3.10/dist-packages/pandas/core/frame.py\u001b[0m in \u001b[0;36m__getitem__\u001b[0;34m(self, key)\u001b[0m\n\u001b[1;32m   3811\u001b[0m             \u001b[0;32mif\u001b[0m \u001b[0mis_iterator\u001b[0m\u001b[0;34m(\u001b[0m\u001b[0mkey\u001b[0m\u001b[0;34m)\u001b[0m\u001b[0;34m:\u001b[0m\u001b[0;34m\u001b[0m\u001b[0;34m\u001b[0m\u001b[0m\n\u001b[1;32m   3812\u001b[0m                 \u001b[0mkey\u001b[0m \u001b[0;34m=\u001b[0m \u001b[0mlist\u001b[0m\u001b[0;34m(\u001b[0m\u001b[0mkey\u001b[0m\u001b[0;34m)\u001b[0m\u001b[0;34m\u001b[0m\u001b[0;34m\u001b[0m\u001b[0m\n\u001b[0;32m-> 3813\u001b[0;31m             \u001b[0mindexer\u001b[0m \u001b[0;34m=\u001b[0m \u001b[0mself\u001b[0m\u001b[0;34m.\u001b[0m\u001b[0mcolumns\u001b[0m\u001b[0;34m.\u001b[0m\u001b[0m_get_indexer_strict\u001b[0m\u001b[0;34m(\u001b[0m\u001b[0mkey\u001b[0m\u001b[0;34m,\u001b[0m \u001b[0;34m\"columns\"\u001b[0m\u001b[0;34m)\u001b[0m\u001b[0;34m[\u001b[0m\u001b[0;36m1\u001b[0m\u001b[0;34m]\u001b[0m\u001b[0;34m\u001b[0m\u001b[0;34m\u001b[0m\u001b[0m\n\u001b[0m\u001b[1;32m   3814\u001b[0m \u001b[0;34m\u001b[0m\u001b[0m\n\u001b[1;32m   3815\u001b[0m         \u001b[0;31m# take() does not accept boolean indexers\u001b[0m\u001b[0;34m\u001b[0m\u001b[0;34m\u001b[0m\u001b[0m\n",
            "\u001b[0;32m/usr/local/lib/python3.10/dist-packages/pandas/core/indexes/base.py\u001b[0m in \u001b[0;36m_get_indexer_strict\u001b[0;34m(self, key, axis_name)\u001b[0m\n\u001b[1;32m   6068\u001b[0m             \u001b[0mkeyarr\u001b[0m\u001b[0;34m,\u001b[0m \u001b[0mindexer\u001b[0m\u001b[0;34m,\u001b[0m \u001b[0mnew_indexer\u001b[0m \u001b[0;34m=\u001b[0m \u001b[0mself\u001b[0m\u001b[0;34m.\u001b[0m\u001b[0m_reindex_non_unique\u001b[0m\u001b[0;34m(\u001b[0m\u001b[0mkeyarr\u001b[0m\u001b[0;34m)\u001b[0m\u001b[0;34m\u001b[0m\u001b[0;34m\u001b[0m\u001b[0m\n\u001b[1;32m   6069\u001b[0m \u001b[0;34m\u001b[0m\u001b[0m\n\u001b[0;32m-> 6070\u001b[0;31m         \u001b[0mself\u001b[0m\u001b[0;34m.\u001b[0m\u001b[0m_raise_if_missing\u001b[0m\u001b[0;34m(\u001b[0m\u001b[0mkeyarr\u001b[0m\u001b[0;34m,\u001b[0m \u001b[0mindexer\u001b[0m\u001b[0;34m,\u001b[0m \u001b[0maxis_name\u001b[0m\u001b[0;34m)\u001b[0m\u001b[0;34m\u001b[0m\u001b[0;34m\u001b[0m\u001b[0m\n\u001b[0m\u001b[1;32m   6071\u001b[0m \u001b[0;34m\u001b[0m\u001b[0m\n\u001b[1;32m   6072\u001b[0m         \u001b[0mkeyarr\u001b[0m \u001b[0;34m=\u001b[0m \u001b[0mself\u001b[0m\u001b[0;34m.\u001b[0m\u001b[0mtake\u001b[0m\u001b[0;34m(\u001b[0m\u001b[0mindexer\u001b[0m\u001b[0;34m)\u001b[0m\u001b[0;34m\u001b[0m\u001b[0;34m\u001b[0m\u001b[0m\n",
            "\u001b[0;32m/usr/local/lib/python3.10/dist-packages/pandas/core/indexes/base.py\u001b[0m in \u001b[0;36m_raise_if_missing\u001b[0;34m(self, key, indexer, axis_name)\u001b[0m\n\u001b[1;32m   6128\u001b[0m                 \u001b[0;32mif\u001b[0m \u001b[0muse_interval_msg\u001b[0m\u001b[0;34m:\u001b[0m\u001b[0;34m\u001b[0m\u001b[0;34m\u001b[0m\u001b[0m\n\u001b[1;32m   6129\u001b[0m                     \u001b[0mkey\u001b[0m \u001b[0;34m=\u001b[0m \u001b[0mlist\u001b[0m\u001b[0;34m(\u001b[0m\u001b[0mkey\u001b[0m\u001b[0;34m)\u001b[0m\u001b[0;34m\u001b[0m\u001b[0;34m\u001b[0m\u001b[0m\n\u001b[0;32m-> 6130\u001b[0;31m                 \u001b[0;32mraise\u001b[0m \u001b[0mKeyError\u001b[0m\u001b[0;34m(\u001b[0m\u001b[0;34mf\"None of [{key}] are in the [{axis_name}]\"\u001b[0m\u001b[0;34m)\u001b[0m\u001b[0;34m\u001b[0m\u001b[0;34m\u001b[0m\u001b[0m\n\u001b[0m\u001b[1;32m   6131\u001b[0m \u001b[0;34m\u001b[0m\u001b[0m\n\u001b[1;32m   6132\u001b[0m             \u001b[0mnot_found\u001b[0m \u001b[0;34m=\u001b[0m \u001b[0mlist\u001b[0m\u001b[0;34m(\u001b[0m\u001b[0mensure_index\u001b[0m\u001b[0;34m(\u001b[0m\u001b[0mkey\u001b[0m\u001b[0;34m)\u001b[0m\u001b[0;34m[\u001b[0m\u001b[0mmissing_mask\u001b[0m\u001b[0;34m.\u001b[0m\u001b[0mnonzero\u001b[0m\u001b[0;34m(\u001b[0m\u001b[0;34m)\u001b[0m\u001b[0;34m[\u001b[0m\u001b[0;36m0\u001b[0m\u001b[0;34m]\u001b[0m\u001b[0;34m]\u001b[0m\u001b[0;34m.\u001b[0m\u001b[0munique\u001b[0m\u001b[0;34m(\u001b[0m\u001b[0;34m)\u001b[0m\u001b[0;34m)\u001b[0m\u001b[0;34m\u001b[0m\u001b[0;34m\u001b[0m\u001b[0m\n",
            "\u001b[0;31mKeyError\u001b[0m: \"None of [Int64Index([62, 104, 23, 2, 139], dtype='int64')] are in the [columns]\""
          ]
        }
      ]
    }
  ]
}